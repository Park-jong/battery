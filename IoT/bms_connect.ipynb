{
 "cells": [
  {
   "cell_type": "code",
   "execution_count": 2,
   "metadata": {},
   "outputs": [],
   "source": [
    "import random  \n",
    "import time  \n",
    "import json  \n",
    "import pandas as pd  \n",
    "import numpy as np  \n",
    "import pvlib  \n",
    "from AWSIoTPythonSDK.MQTTLib import AWSIoTMQTTClient"
   ]
  },
  {
   "cell_type": "code",
   "execution_count": null,
   "metadata": {},
   "outputs": [],
   "source": [
    "# AWS IoT Core   \n",
    "ENDPOINT = $(ENDPOINT URL) \n",
    "CLIENT_ID = 'B001'  \n",
    "TOPIC = 'bms/battery_data/B001/metric'  \n",
    "PORT = 8883  \n",
    "​  \n",
    "#Create an MQTT client  \n",
    "mqttc = AWSIoTMQTTClient(CLIENT_ID)  \n",
    "mqttc.configureEndpoint(ENDPOINT,PORT)  \n",
    "#Create credentials by locating your certificates and private key  \n",
    "mqttc.configureCredentials(\"./certs/AmazonRootCA1.pem\",\"./certs/private.pem.key\",\"./certs/certificate.pem.crt\")  \n",
    "​  "
   ]
  }
 ],
 "metadata": {
  "kernelspec": {
   "display_name": "bms",
   "language": "python",
   "name": "python3"
  },
  "language_info": {
   "codemirror_mode": {
    "name": "ipython",
    "version": 3
   },
   "file_extension": ".py",
   "mimetype": "text/x-python",
   "name": "python",
   "nbconvert_exporter": "python",
   "pygments_lexer": "ipython3",
   "version": "3.9.18"
  }
 },
 "nbformat": 4,
 "nbformat_minor": 2
}
